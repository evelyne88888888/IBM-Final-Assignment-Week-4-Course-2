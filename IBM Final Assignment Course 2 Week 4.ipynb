{
  "metadata": {
    "language_info": {
      "codemirror_mode": {
        "name": "python",
        "version": 3
      },
      "file_extension": ".py",
      "mimetype": "text/x-python",
      "name": "python",
      "nbconvert_exporter": "python",
      "pygments_lexer": "ipython3",
      "version": "3.8"
    },
    "kernelspec": {
      "name": "python",
      "display_name": "Pyolite",
      "language": "python"
    }
  },
  "nbformat_minor": 4,
  "nbformat": 4,
  "cells": [
    {
      "cell_type": "markdown",
      "source": "<h1>My Jupyter Notebook on IBM Watson Studio</h1>",
      "metadata": {}
    },
    {
      "cell_type": "markdown",
      "source": "**Evelyne Khuong\n\nProject Coordinator",
      "metadata": {}
    },
    {
      "cell_type": "markdown",
      "source": "*I am interested in data science because it is crucial for my job",
      "metadata": {}
    },
    {
      "cell_type": "markdown",
      "source": "<h3>The next cell will show a simple math</h3>",
      "metadata": {}
    },
    {
      "cell_type": "code",
      "source": "1+1",
      "metadata": {
        "trusted": true
      },
      "execution_count": 2,
      "outputs": [
        {
          "execution_count": 2,
          "output_type": "execute_result",
          "data": {
            "text/plain": "2"
          },
          "metadata": {}
        }
      ]
    },
    {
      "cell_type": "markdown",
      "source": "Adding a horizontal line below\n***\nHorizontal line added to separate content\nNumbered list starts below\n1. This\n2. is\n3. a\n4. numbered\n5. list\n\n* This\n* is\n* a\n* bullet\n* list\n\n~~This is a strikethrough text~~\n\nHyperlink please click <a href=\"https://en.wikipedia.org\" target=\"_blank\">this link</a>.\n\n<blockquote>Blockquote added</blockquote>\n\n![](https://www.python.org/static/community_logos/python-logo-master-v3-TM.png)\n\n|Test  |Test  |Test  |\n|------|------|------|\n|A     |B     |C     |\n|D     |E     |F     |\n\n`Here is some highlight`",
      "metadata": {}
    },
    {
      "cell_type": "raw",
      "source": "",
      "metadata": {}
    },
    {
      "cell_type": "code",
      "source": "",
      "metadata": {},
      "execution_count": null,
      "outputs": []
    }
  ]
}